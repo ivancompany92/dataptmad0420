{
 "cells": [
  {
   "cell_type": "markdown",
   "metadata": {},
   "source": [
    "# Web Scraping Lab\n",
    "\n",
    "You will find in this notebook some scrapy exercises to practise your scraping skills.\n",
    "\n",
    "**Tips:**\n",
    "\n",
    "- Check the response status code for each request to ensure you have obtained the intended content.\n",
    "- Print the response text in each request to understand the kind of info you are getting and its format.\n",
    "- Check for patterns in the response text to extract the data/info requested in each question.\n",
    "- Visit the urls below and take a look at their source code through Chrome DevTools. You'll need to identify the html tags, special class names, etc used in the html content you are expected to extract.\n",
    "\n",
    "**Resources**:\n",
    "- [Requests library](http://docs.python-requests.org/en/master/#the-user-guide)\n",
    "- [Beautiful Soup Doc](https://www.crummy.com/software/BeautifulSoup/bs4/doc/)\n",
    "- [Urllib](https://docs.python.org/3/library/urllib.html#module-urllib)\n",
    "- [re lib](https://docs.python.org/3/library/re.html)\n",
    "- [lxml lib](https://lxml.de/)\n",
    "- [Scrapy](https://scrapy.org/)\n",
    "- [List of HTTP status codes](https://en.wikipedia.org/wiki/List_of_HTTP_status_codes)\n",
    "- [HTML basics](http://www.simplehtmlguide.com/cheatsheet.php)\n",
    "- [CSS basics](https://www.cssbasics.com/#page_start)"
   ]
  },
  {
   "cell_type": "markdown",
   "metadata": {},
   "source": [
    "#### Below are the libraries and modules you may need. `requests`,  `BeautifulSoup` and `pandas` are already imported for you. If you prefer to use additional libraries feel free to do it."
   ]
  },
  {
   "cell_type": "code",
   "execution_count": 1,
   "metadata": {},
   "outputs": [],
   "source": [
    "import requests\n",
    "from bs4 import BeautifulSoup\n",
    "import pandas as pd"
   ]
  },
  {
   "cell_type": "markdown",
   "metadata": {},
   "source": [
    "#### Download, parse (using BeautifulSoup), and print the content from the Trending Developers page from GitHub:"
   ]
  },
  {
   "cell_type": "code",
   "execution_count": 2,
   "metadata": {},
   "outputs": [],
   "source": [
    "# This is the url you will scrape in this exercise\n",
    "url = 'https://github.com/trending/developers'"
   ]
  },
  {
   "cell_type": "code",
   "execution_count": 3,
   "metadata": {},
   "outputs": [
    {
     "data": {
      "text/plain": [
       "b'\\n\\n\\n\\n\\n<!DOCTYPE html>\\n<html lang=\"en\">\\n  <head>\\n    <meta charset=\"utf-8\">\\n  <link rel=\"dns-prefetch\" href=\"https://github.githubassets.com\">\\n  <link rel=\"dns-prefetch\" href=\"https://avatars0.githubusercontent.com\">\\n  <link rel=\"dns-prefetch\" href=\"https://avatars1.githubusercontent.com\">\\n  <link rel=\"dns-prefetch\" href=\"https://avatars2.githubusercontent.com\">\\n  <link rel=\"dns-prefetch\" href=\"https://avatars3.githubusercontent.com\">\\n  <link rel=\"dns-prefetch\" href=\"https://github-cloud.s3.amazon'"
      ]
     },
     "execution_count": 3,
     "metadata": {},
     "output_type": "execute_result"
    }
   ],
   "source": [
    "# your code here\n",
    "html = requests.get(url).content \n",
    "html[:500]"
   ]
  },
  {
   "cell_type": "markdown",
   "metadata": {},
   "source": [
    "#### Display the names of the trending developers retrieved in the previous step.\n",
    "\n",
    "Your output should be a Python list of developer names. Each name should not contain any html tag.\n",
    "\n",
    "**Instructions:**\n",
    "\n",
    "1. Find out the html tag and class names used for the developer names. You can achieve this using Chrome DevTools.\n",
    "\n",
    "1. Use BeautifulSoup to extract all the html elements that contain the developer names.\n",
    "\n",
    "1. Use string manipulation techniques to replace whitespaces and linebreaks (i.e. `\\n`) in the *text* of each html element. Use a list to store the clean names.\n",
    "\n",
    "1. Print the list of names.\n",
    "\n",
    "Your output should look like below:\n",
    "\n",
    "```\n",
    "['trimstray (@trimstray)',\n",
    " 'joewalnes (JoeWalnes)',\n",
    " 'charlax (Charles-AxelDein)',\n",
    " 'ForrestKnight (ForrestKnight)',\n",
    " 'revery-ui (revery-ui)',\n",
    " 'alibaba (Alibaba)',\n",
    " 'Microsoft (Microsoft)',\n",
    " 'github (GitHub)',\n",
    " 'facebook (Facebook)',\n",
    " 'boazsegev (Bo)',\n",
    " 'google (Google)',\n",
    " 'cloudfetch',\n",
    " 'sindresorhus (SindreSorhus)',\n",
    " 'tensorflow',\n",
    " 'apache (TheApacheSoftwareFoundation)',\n",
    " 'DevonCrawford (DevonCrawford)',\n",
    " 'ARMmbed (ArmMbed)',\n",
    " 'vuejs (vuejs)',\n",
    " 'fastai (fast.ai)',\n",
    " 'QiShaoXuan (Qi)',\n",
    " 'joelparkerhenderson (JoelParkerHenderson)',\n",
    " 'torvalds (LinusTorvalds)',\n",
    " 'CyC2018',\n",
    " 'komeiji-satori (神楽坂覚々)',\n",
    " 'script-8']\n",
    " ```"
   ]
  },
  {
   "cell_type": "code",
   "execution_count": 4,
   "metadata": {},
   "outputs": [
    {
     "name": "stdout",
     "output_type": "stream",
     "text": [
      "['MichielBorkent(borkdude)', 'PrabirShrestha(prabirshrestha)', 'MichaelMok(pmmmwh)', 'ArvidNorberg(arvidn)', 'WillMcGugan(willmcgugan)', 'Mihai(amihaiemil)', 'NatAlison(tesseralis)', 'HenrikRydgård(hrydgard)', 'SaadPasta(saadpasta)', 'YuviPanda(yuvipanda)', 'ManfredTouron(moul)', 'GeoffBoeing(gboeing)', 'PaulBiggar(pbiggar)', 'Juliette(jrfnl)', 'YoshuaWuyts(yoshuawuyts)', 'RikkiSchulte(acao)', 'RichHarris(Rich-Harris)', 'Dessalines(dessalines)', 'JavierSuárez(jsuarezruiz)', 'OrtaTherox(orta)', 'Mr.doob(mrdoob)', 'ItamarRavid(iravid)', 'KoenKanters(Koenkk)', 'DanielWirtz(dcodeIO)', 'PaulChaignon(pchaigno)']\n"
     ]
    }
   ],
   "source": [
    "# your code here\n",
    "soup = BeautifulSoup(html, 'lxml')\n",
    "\n",
    "table = soup.find_all(['h1','p'],{'class':['h3 lh-condensed','f4 text-normal mb-1']})\n",
    "\n",
    "rows_parsed = [row.text for row in table]\n",
    "\n",
    "#clean the names and the Nickname\n",
    "names_raw=[]\n",
    "for i in rows_parsed:\n",
    "    name=i.replace('\\n\\n','').replace(' ','')\n",
    "    names_raw.append(name)\n",
    "\n",
    "#order the name and the nickname in the list \"names\"\n",
    "names=[]\n",
    "for i in range(0,len(names_raw),2):\n",
    "    name_nick=names_raw[i]+'('+names_raw[i+1]+')'\n",
    "    names.append(name_nick)\n",
    "    \n",
    "print(names)"
   ]
  },
  {
   "cell_type": "markdown",
   "metadata": {},
   "source": [
    "#### Display the trending Python repositories in GitHub.\n",
    "\n",
    "The steps to solve this problem is similar to the previous one except that you need to find out the repository names instead of developer names."
   ]
  },
  {
   "cell_type": "code",
   "execution_count": 7,
   "metadata": {},
   "outputs": [
    {
     "data": {
      "text/plain": [
       "b'\\n\\n\\n\\n\\n<!DOCTYPE html>\\n<html lang=\"en\">\\n  <head>\\n    <meta charset=\"utf-8\">\\n  <link rel=\"dns-prefetch\" href=\"https://github.githubassets.com\">\\n  <link rel=\"dns-prefetch\" href=\"https://avatars0.githubusercontent.com\">\\n  <link rel=\"dns-prefetch\" href=\"https://avatars1.githubusercontent.com\">\\n  <link rel=\"dns-prefetch\" href=\"https://avatars2.githubusercontent.com\">\\n  <link rel=\"dns-prefetch\" href=\"https://avatars3.githubusercontent.com\">\\n  <link rel=\"dns-prefetch\" href=\"https://github-cloud.s3.amazon'"
      ]
     },
     "execution_count": 7,
     "metadata": {},
     "output_type": "execute_result"
    }
   ],
   "source": [
    "# This is the url you will scrape in this exercise\n",
    "url_2= 'https://github.com/trending/python?since=daily'\n",
    "\n",
    "html_2= requests.get(url_2).content \n",
    "html_2[:500]\n"
   ]
  },
  {
   "cell_type": "code",
   "execution_count": 15,
   "metadata": {},
   "outputs": [
    {
     "name": "stdout",
     "output_type": "stream",
     "text": [
      "['python-small-examples', 'pulse', 'python-cheatsheet', 'public-apis', 'cython', 'ckan', 'backtrader', 'HanLP', 'ambassador', 'ScoutSuite', 'nginx-ui', 'FATE', 'Instagram', 'pyinfra', 'hummingbird', 'DeepFaceLab', 'YetAnotherSMSBomber', 'cupp', 'content', 'spiderfoot', 'system-design-primer', 'jax', 'datadogpy', 'photo2cartoon', 'transformers']\n"
     ]
    }
   ],
   "source": [
    "# your code here\n",
    "soup_2= BeautifulSoup(html_2, 'lxml')\n",
    "\n",
    "table = soup_2.find_all(['h1'],{'class':'h3 lh-condensed'})\n",
    "\n",
    "rows_parsed = [row.text for row in table]\n",
    "\n",
    "#clean the repositories\n",
    "repositories=[]\n",
    "for i in rows_parsed:\n",
    "    repository=i.split('/\\n\\n\\n\\n') #we divided the name and the repository in 2 parts\n",
    "    #take the second part and clen the \"left spaces\" with lstrip and \"\\n\" with replace\n",
    "    repository_clean=repository[1].replace('\\n\\n','').lstrip() \n",
    "    repositories.append(repository_clean)\n",
    "\n",
    "print(repositories)"
   ]
  },
  {
   "cell_type": "markdown",
   "metadata": {},
   "source": [
    "#### Display all the image links from Walt Disney wikipedia page."
   ]
  },
  {
   "cell_type": "code",
   "execution_count": 60,
   "metadata": {},
   "outputs": [],
   "source": [
    "# This is the url you will scrape in this exercise\n",
    "url_3= 'https://en.wikipedia.org/wiki/Walt_Disney'\n",
    "\n",
    "html_3= requests.get(url_3).content \n"
   ]
  },
  {
   "cell_type": "code",
   "execution_count": 61,
   "metadata": {},
   "outputs": [
    {
     "name": "stdout",
     "output_type": "stream",
     "text": [
      "['https://en.wikipedia.org//wiki/File:Walt_Disney_1946.JPG', 'https://en.wikipedia.org//wiki/File:Walt_Disney_1942_signature.svg', 'https://en.wikipedia.org//wiki/File:Walt_Disney_envelope_ca._1921.jpg', 'https://en.wikipedia.org//wiki/File:Trolley_Troubles_poster.jpg', 'https://en.wikipedia.org//wiki/File:Walt_Disney_and_his_cartoon_creation_%22Mickey_Mouse%22_-_National_Board_of_Review_Magazine.jpg', 'https://en.wikipedia.org//wiki/File:Steamboat-willie.jpg', 'https://en.wikipedia.org//wiki/File:Walt_Disney_1935.jpg', 'https://en.wikipedia.org//wiki/File:Walt_Disney_Snow_white_1937_trailer_screenshot_(13).jpg', 'https://en.wikipedia.org//wiki/File:Disney_drawing_goofy.jpg', 'https://en.wikipedia.org//wiki/File:DisneySchiphol1951.jpg', 'https://en.wikipedia.org//wiki/File:WaltDisneyplansDisneylandDec1954.jpg', 'https://en.wikipedia.org//wiki/File:Walt_disney_portrait_right.jpg', 'https://en.wikipedia.org//wiki/File:Walt_Disney_Grave.JPG', 'https://en.wikipedia.org//wiki/File:Roy_O._Disney_with_Company_at_Press_Conference.jpg', 'https://en.wikipedia.org//wiki/File:Disney_Display_Case.JPG', 'https://en.wikipedia.org//wiki/File:Disney1968.jpg', 'https://en.wikipedia.org//wiki/File:The_Walt_Disney_Company_Logo.svg', 'https://en.wikipedia.org//wiki/File:Animation_disc.svg', 'https://en.wikipedia.org//wiki/File:P_vip.svg', 'https://en.wikipedia.org//wiki/File:Magic_Kingdom_castle.jpg', 'https://en.wikipedia.org//wiki/File:Video-x-generic.svg', 'https://en.wikipedia.org//wiki/File:Flag_of_Los_Angeles_County,_California.svg', 'https://en.wikipedia.org//wiki/File:Blank_television_set.svg', 'https://en.wikipedia.org//wiki/File:Flag_of_the_United_States.svg']\n"
     ]
    }
   ],
   "source": [
    "# your code here\n",
    "soup_3= BeautifulSoup(html_3, 'lxml')\n",
    "\n",
    "table = soup_3.find_all(['a'],{'class':'image'})\n",
    "\n",
    "\n",
    "images=[]\n",
    "for i in table:\n",
    "    web='https://en.wikipedia.org/'\n",
    "    web+=i['href']\n",
    "    images.append(web)\n",
    "\n",
    "print(images)"
   ]
  },
  {
   "cell_type": "markdown",
   "metadata": {},
   "source": [
    "#### Retrieve an arbitary Wikipedia page of \"Python\" and create a list of links on that page."
   ]
  },
  {
   "cell_type": "code",
   "execution_count": 65,
   "metadata": {},
   "outputs": [],
   "source": [
    "# This is the url you will scrape in this exercise\n",
    "url_4='https://en.wikipedia.org/wiki/Python' \n",
    "html_4= requests.get(url_4).content \n"
   ]
  },
  {
   "cell_type": "code",
   "execution_count": 104,
   "metadata": {},
   "outputs": [
    {
     "data": {
      "text/plain": [
       "['https://en.wikipedia.org//wiki/Pythonidae',\n",
       " 'https://en.wikipedia.org//wiki/Python_(genus)',\n",
       " 'https://en.wikipedia.org//wiki/Python_(mythology)',\n",
       " 'https://en.wikipedia.org//wiki/Python_of_Aenus',\n",
       " 'https://en.wikipedia.org//wiki/Python_(painter)']"
      ]
     },
     "execution_count": 104,
     "metadata": {},
     "output_type": "execute_result"
    }
   ],
   "source": [
    "# your code here\n",
    "import random\n",
    "soup_4= BeautifulSoup(html_4, 'lxml')\n",
    "\n",
    "table = soup_4.find_all(['a'])\n",
    "\n",
    "list_webs_python=[]\n",
    "#obtain the list of python webs and add in a list\n",
    "for i in table:\n",
    "    try:\n",
    "        #we try to search the value 'href' because with this, we can obtain the url.\n",
    "        if i['href'].startswith('/wiki/Python'):\n",
    "            #we add the url in the list and it must start with \"https://en.wikipedia.org/\"\n",
    "            list_webs_python.append('https://en.wikipedia.org/' + i['href'])\n",
    "    except:\n",
    "        continue\n",
    "list_webs_python[:5]\n"
   ]
  },
  {
   "cell_type": "code",
   "execution_count": 105,
   "metadata": {},
   "outputs": [],
   "source": [
    "#we choice an arbitrary web of python\n",
    "url_4_arbitray = random.choice(list_webs_python)\n",
    "html_4_arbitrary = requests.get(url_4_arbitray).content \n"
   ]
  },
  {
   "cell_type": "code",
   "execution_count": 107,
   "metadata": {},
   "outputs": [
    {
     "data": {
      "text/plain": [
       "['https://en.wikipedia.org//wiki/File:Kelly_Python.JPG',\n",
       " 'https://en.wikipedia.org//wiki/File:Kelly_Python.JPG',\n",
       " 'https://en.wikipedia.org//wiki/Ford',\n",
       " 'https://en.wikipedia.org//wiki/Eugene_Bordinat',\n",
       " 'https://en.wikipedia.org//wiki/Carroll_Shelby']"
      ]
     },
     "execution_count": 107,
     "metadata": {},
     "output_type": "execute_result"
    }
   ],
   "source": [
    "soup_4_arbitray= BeautifulSoup(html_4_arbitrary, 'lxml')\n",
    "\n",
    "table_2= soup_4_arbitray.find_all(['a'])\n",
    "table_2\n",
    "\n",
    "#we repeat the stpes of we do with the wikipedia python web\n",
    "list_webs_arbitray=[]\n",
    "for i in table_2:\n",
    "    try:\n",
    "        if i['href'].startswith('/wiki/'):\n",
    "            list_webs_arbitray.append('https://en.wikipedia.org/' + i['href'])\n",
    "    except:\n",
    "        continue\n",
    "list_webs_arbitray [:5]"
   ]
  },
  {
   "cell_type": "markdown",
   "metadata": {},
   "source": [
    "#### Find the number of titles that have changed in the United States Code since its last release point."
   ]
  },
  {
   "cell_type": "code",
   "execution_count": 108,
   "metadata": {},
   "outputs": [],
   "source": [
    "# This is the url you will scrape in this exercise\n",
    "url_5 = 'http://uscode.house.gov/download/download.shtml'\n",
    "html_5 = requests.get(url_5).content"
   ]
  },
  {
   "cell_type": "code",
   "execution_count": 121,
   "metadata": {},
   "outputs": [
    {
     "data": {
      "text/plain": [
       "['Title 5 - Government Organization and Employees ٭',\n",
       " 'Title 8 - Aliens and Nationality',\n",
       " 'Title 10 - Armed Forces ٭',\n",
       " 'Title 16 - Conservation',\n",
       " 'Title 19 - Customs Duties',\n",
       " 'Title 36 - Patriotic and National Observances, Ceremonies, and Organizations ٭',\n",
       " 'Title 50 - War and National Defense']"
      ]
     },
     "execution_count": 121,
     "metadata": {},
     "output_type": "execute_result"
    }
   ],
   "source": [
    "# your code here\n",
    "import re\n",
    "soup_5 = BeautifulSoup(html_5, 'lxml')\n",
    "table= soup_5.find_all(['div'],{'class':'usctitlechanged'})\n",
    "\n",
    "titles_changed=[]\n",
    "for i in table:\n",
    "    changed_1=re.sub('\\n','',i.text) #clean the \"\\n\" of each title\n",
    "    changed_2=re.sub(' {2,}','',changed_1) #clean the spaces(in the start and finish) of the title\n",
    "    titles_changed.append(changed_2)\n",
    "\n",
    "titles_changed"
   ]
  },
  {
   "cell_type": "markdown",
   "metadata": {},
   "source": [
    "#### Find a Python list with the top ten FBI's Most Wanted names."
   ]
  },
  {
   "cell_type": "code",
   "execution_count": null,
   "metadata": {},
   "outputs": [],
   "source": [
    "# This is the url you will scrape in this exercise\n",
    "url = 'https://www.fbi.gov/wanted/topten'"
   ]
  },
  {
   "cell_type": "code",
   "execution_count": null,
   "metadata": {},
   "outputs": [],
   "source": [
    "# your code here"
   ]
  },
  {
   "cell_type": "markdown",
   "metadata": {},
   "source": [
    "####  Display the 20 latest earthquakes info (date, time, latitude, longitude and region name) by the EMSC as a pandas dataframe."
   ]
  },
  {
   "cell_type": "code",
   "execution_count": null,
   "metadata": {},
   "outputs": [],
   "source": [
    "# This is the url you will scrape in this exercise\n",
    "url = 'https://www.emsc-csem.org/Earthquake/'"
   ]
  },
  {
   "cell_type": "code",
   "execution_count": null,
   "metadata": {},
   "outputs": [],
   "source": [
    "# your code here"
   ]
  },
  {
   "cell_type": "markdown",
   "metadata": {},
   "source": [
    "#### Count the number of tweets by a given Twitter account.\n",
    "Ask the user for the handle (@handle) of a twitter account. You will need to include a ***try/except block*** for account names not found. \n",
    "<br>***Hint:*** the program should count the number of tweets for any provided account."
   ]
  },
  {
   "cell_type": "code",
   "execution_count": null,
   "metadata": {},
   "outputs": [],
   "source": [
    "# This is the url you will scrape in this exercise \n",
    "# You will need to add the account credentials to this url\n",
    "url = 'https://twitter.com/'"
   ]
  },
  {
   "cell_type": "code",
   "execution_count": null,
   "metadata": {},
   "outputs": [],
   "source": [
    "# your code here"
   ]
  },
  {
   "cell_type": "markdown",
   "metadata": {},
   "source": [
    "#### Number of followers of a given twitter account\n",
    "Ask the user for the handle (@handle) of a twitter account. You will need to include a ***try/except block*** for account names not found. \n",
    "<br>***Hint:*** the program should count the followers for any provided account."
   ]
  },
  {
   "cell_type": "code",
   "execution_count": null,
   "metadata": {},
   "outputs": [],
   "source": [
    "# This is the url you will scrape in this exercise \n",
    "# You will need to add the account credentials to this url\n",
    "url = 'https://twitter.com/'"
   ]
  },
  {
   "cell_type": "code",
   "execution_count": null,
   "metadata": {},
   "outputs": [],
   "source": [
    "# your code here"
   ]
  },
  {
   "cell_type": "markdown",
   "metadata": {},
   "source": [
    "#### List all language names and number of related articles in the order they appear in wikipedia.org."
   ]
  },
  {
   "cell_type": "code",
   "execution_count": null,
   "metadata": {},
   "outputs": [],
   "source": [
    "# This is the url you will scrape in this exercise\n",
    "url = 'https://www.wikipedia.org/'"
   ]
  },
  {
   "cell_type": "code",
   "execution_count": null,
   "metadata": {},
   "outputs": [],
   "source": [
    "# your code here"
   ]
  },
  {
   "cell_type": "markdown",
   "metadata": {},
   "source": [
    "#### A list with the different kind of datasets available in data.gov.uk."
   ]
  },
  {
   "cell_type": "code",
   "execution_count": null,
   "metadata": {},
   "outputs": [],
   "source": [
    "# This is the url you will scrape in this exercise\n",
    "url = 'https://data.gov.uk/'"
   ]
  },
  {
   "cell_type": "code",
   "execution_count": null,
   "metadata": {},
   "outputs": [],
   "source": [
    "# your code here"
   ]
  },
  {
   "cell_type": "markdown",
   "metadata": {},
   "source": [
    "#### Display the top 10 languages by number of native speakers stored in a pandas dataframe."
   ]
  },
  {
   "cell_type": "code",
   "execution_count": null,
   "metadata": {},
   "outputs": [],
   "source": [
    "# This is the url you will scrape in this exercise\n",
    "url = 'https://en.wikipedia.org/wiki/List_of_languages_by_number_of_native_speakers'"
   ]
  },
  {
   "cell_type": "code",
   "execution_count": null,
   "metadata": {},
   "outputs": [],
   "source": [
    "# your code here"
   ]
  },
  {
   "cell_type": "markdown",
   "metadata": {},
   "source": [
    "## Bonus\n",
    "#### Scrape a certain number of tweets of a given Twitter account."
   ]
  },
  {
   "cell_type": "code",
   "execution_count": null,
   "metadata": {},
   "outputs": [],
   "source": [
    "# This is the url you will scrape in this exercise \n",
    "# You will need to add the account credentials to this url\n",
    "url = 'https://twitter.com/'"
   ]
  },
  {
   "cell_type": "code",
   "execution_count": null,
   "metadata": {},
   "outputs": [],
   "source": [
    "# your code here"
   ]
  },
  {
   "cell_type": "markdown",
   "metadata": {},
   "source": [
    "#### Display IMDB's top 250 data (movie name, initial release, director name and stars) as a pandas dataframe."
   ]
  },
  {
   "cell_type": "code",
   "execution_count": null,
   "metadata": {},
   "outputs": [],
   "source": [
    "# This is the url you will scrape in this exercise \n",
    "url = 'https://www.imdb.com/chart/top'"
   ]
  },
  {
   "cell_type": "code",
   "execution_count": null,
   "metadata": {},
   "outputs": [],
   "source": [
    "# your code here"
   ]
  },
  {
   "cell_type": "markdown",
   "metadata": {},
   "source": [
    "#### Display the movie name, year and a brief summary of the top 10 random movies (IMDB) as a pandas dataframe."
   ]
  },
  {
   "cell_type": "code",
   "execution_count": null,
   "metadata": {},
   "outputs": [],
   "source": [
    "#This is the url you will scrape in this exercise\n",
    "url = 'http://www.imdb.com/chart/top'"
   ]
  },
  {
   "cell_type": "code",
   "execution_count": null,
   "metadata": {},
   "outputs": [],
   "source": [
    "# your code here"
   ]
  },
  {
   "cell_type": "markdown",
   "metadata": {},
   "source": [
    "#### Find the live weather report (temperature, wind speed, description and weather) of a given city."
   ]
  },
  {
   "cell_type": "code",
   "execution_count": null,
   "metadata": {},
   "outputs": [],
   "source": [
    "#https://openweathermap.org/current\n",
    "city = input('Enter the city: ')\n",
    "url = 'http://api.openweathermap.org/data/2.5/weather?'+'q='+city+'&APPID=b35975e18dc93725acb092f7272cc6b8&units=metric'"
   ]
  },
  {
   "cell_type": "code",
   "execution_count": null,
   "metadata": {},
   "outputs": [],
   "source": [
    "# your code here"
   ]
  },
  {
   "cell_type": "markdown",
   "metadata": {},
   "source": [
    "#### Find the book name, price and stock availability as a pandas dataframe."
   ]
  },
  {
   "cell_type": "code",
   "execution_count": null,
   "metadata": {},
   "outputs": [],
   "source": [
    "# This is the url you will scrape in this exercise. \n",
    "# It is a fictional bookstore created to be scraped. \n",
    "url = 'http://books.toscrape.com/'"
   ]
  },
  {
   "cell_type": "code",
   "execution_count": null,
   "metadata": {},
   "outputs": [],
   "source": [
    "# your code here"
   ]
  }
 ],
 "metadata": {
  "kernelspec": {
   "display_name": "Python [conda env:IronHack_env]",
   "language": "python",
   "name": "conda-env-IronHack_env-py"
  },
  "language_info": {
   "codemirror_mode": {
    "name": "ipython",
    "version": 3
   },
   "file_extension": ".py",
   "mimetype": "text/x-python",
   "name": "python",
   "nbconvert_exporter": "python",
   "pygments_lexer": "ipython3",
   "version": "3.7.7"
  }
 },
 "nbformat": 4,
 "nbformat_minor": 4
}
