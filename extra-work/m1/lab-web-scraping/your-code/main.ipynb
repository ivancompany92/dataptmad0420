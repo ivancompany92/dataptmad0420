{
 "cells": [
  {
   "cell_type": "markdown",
   "metadata": {},
   "source": [
    "# Web Scraping Lab\n",
    "\n",
    "You will find in this notebook some scrapy exercises to practise your scraping skills.\n",
    "\n",
    "**Tips:**\n",
    "\n",
    "- Check the response status code for each request to ensure you have obtained the intended content.\n",
    "- Print the response text in each request to understand the kind of info you are getting and its format.\n",
    "- Check for patterns in the response text to extract the data/info requested in each question.\n",
    "- Visit the urls below and take a look at their source code through Chrome DevTools. You'll need to identify the html tags, special class names, etc used in the html content you are expected to extract.\n",
    "\n",
    "**Resources**:\n",
    "- [Requests library](http://docs.python-requests.org/en/master/#the-user-guide)\n",
    "- [Beautiful Soup Doc](https://www.crummy.com/software/BeautifulSoup/bs4/doc/)\n",
    "- [Urllib](https://docs.python.org/3/library/urllib.html#module-urllib)\n",
    "- [re lib](https://docs.python.org/3/library/re.html)\n",
    "- [lxml lib](https://lxml.de/)\n",
    "- [Scrapy](https://scrapy.org/)\n",
    "- [List of HTTP status codes](https://en.wikipedia.org/wiki/List_of_HTTP_status_codes)\n",
    "- [HTML basics](http://www.simplehtmlguide.com/cheatsheet.php)\n",
    "- [CSS basics](https://www.cssbasics.com/#page_start)"
   ]
  },
  {
   "cell_type": "markdown",
   "metadata": {},
   "source": [
    "#### Below are the libraries and modules you may need. `requests`,  `BeautifulSoup` and `pandas` are already imported for you. If you prefer to use additional libraries feel free to do it."
   ]
  },
  {
   "cell_type": "code",
   "execution_count": 75,
   "metadata": {},
   "outputs": [],
   "source": [
    "import requests\n",
    "from bs4 import BeautifulSoup\n",
    "import pandas as pd"
   ]
  },
  {
   "cell_type": "markdown",
   "metadata": {},
   "source": [
    "#### Download, parse (using BeautifulSoup), and print the content from the Trending Developers page from GitHub:"
   ]
  },
  {
   "cell_type": "code",
   "execution_count": 76,
   "metadata": {},
   "outputs": [],
   "source": [
    "# This is the url you will scrape in this exercise\n",
    "url = 'https://github.com/trending/developers'"
   ]
  },
  {
   "cell_type": "code",
   "execution_count": 77,
   "metadata": {},
   "outputs": [
    {
     "data": {
      "text/plain": [
       "b'\\n\\n\\n\\n\\n<!DOCTYPE html>\\n<html lang=\"en\">\\n  <head>\\n    <meta charset=\"utf-8\">\\n  <link rel=\"dns-prefetch\" href=\"https://github.githubassets.com\">\\n  <link rel=\"dns-prefetch\" href=\"https://avatars0.githubusercontent.com\">\\n  <link rel=\"dns-prefetch\" href=\"https://avatars1.githubusercontent.com\">\\n  <link rel=\"dns-prefetch\" href=\"https://avatars2.githubusercontent.com\">\\n  <link rel=\"dns-prefetch\" href=\"https://avatars3.githubusercontent.com\">\\n  <link rel=\"dns-prefetch\" href=\"https://github-cloud.s3.amazon'"
      ]
     },
     "execution_count": 77,
     "metadata": {},
     "output_type": "execute_result"
    }
   ],
   "source": [
    "# your code here\n",
    "html = requests.get(url).content \n",
    "html[:500]"
   ]
  },
  {
   "cell_type": "markdown",
   "metadata": {},
   "source": [
    "#### Display the names of the trending developers retrieved in the previous step.\n",
    "\n",
    "Your output should be a Python list of developer names. Each name should not contain any html tag.\n",
    "\n",
    "**Instructions:**\n",
    "\n",
    "1. Find out the html tag and class names used for the developer names. You can achieve this using Chrome DevTools.\n",
    "\n",
    "1. Use BeautifulSoup to extract all the html elements that contain the developer names.\n",
    "\n",
    "1. Use string manipulation techniques to replace whitespaces and linebreaks (i.e. `\\n`) in the *text* of each html element. Use a list to store the clean names.\n",
    "\n",
    "1. Print the list of names.\n",
    "\n",
    "Your output should look like below:\n",
    "\n",
    "```\n",
    "['trimstray (@trimstray)',\n",
    " 'joewalnes (JoeWalnes)',\n",
    " 'charlax (Charles-AxelDein)',\n",
    " 'ForrestKnight (ForrestKnight)',\n",
    " 'revery-ui (revery-ui)',\n",
    " 'alibaba (Alibaba)',\n",
    " 'Microsoft (Microsoft)',\n",
    " 'github (GitHub)',\n",
    " 'facebook (Facebook)',\n",
    " 'boazsegev (Bo)',\n",
    " 'google (Google)',\n",
    " 'cloudfetch',\n",
    " 'sindresorhus (SindreSorhus)',\n",
    " 'tensorflow',\n",
    " 'apache (TheApacheSoftwareFoundation)',\n",
    " 'DevonCrawford (DevonCrawford)',\n",
    " 'ARMmbed (ArmMbed)',\n",
    " 'vuejs (vuejs)',\n",
    " 'fastai (fast.ai)',\n",
    " 'QiShaoXuan (Qi)',\n",
    " 'joelparkerhenderson (JoelParkerHenderson)',\n",
    " 'torvalds (LinusTorvalds)',\n",
    " 'CyC2018',\n",
    " 'komeiji-satori (神楽坂覚々)',\n",
    " 'script-8']\n",
    " ```"
   ]
  },
  {
   "cell_type": "code",
   "execution_count": 79,
   "metadata": {},
   "outputs": [
    {
     "data": {
      "text/plain": [
       "['MichielBorkent(borkdude)',\n",
       " 'PrabirShrestha(prabirshrestha)',\n",
       " 'MichaelMok(pmmmwh)',\n",
       " 'ArvidNorberg(arvidn)',\n",
       " 'WillMcGugan(willmcgugan)',\n",
       " 'Mihai(amihaiemil)',\n",
       " 'NatAlison(tesseralis)',\n",
       " 'HenrikRydgård(hrydgard)',\n",
       " 'SaadPasta(saadpasta)',\n",
       " 'YuviPanda(yuvipanda)',\n",
       " 'ManfredTouron(moul)',\n",
       " 'GeoffBoeing(gboeing)',\n",
       " 'PaulBiggar(pbiggar)',\n",
       " 'Juliette(jrfnl)',\n",
       " 'YoshuaWuyts(yoshuawuyts)',\n",
       " 'RikkiSchulte(acao)',\n",
       " 'RichHarris(Rich-Harris)',\n",
       " 'Dessalines(dessalines)',\n",
       " 'JavierSuárez(jsuarezruiz)',\n",
       " 'OrtaTherox(orta)',\n",
       " 'Mr.doob(mrdoob)',\n",
       " 'ItamarRavid(iravid)',\n",
       " 'KoenKanters(Koenkk)',\n",
       " 'DanielWirtz(dcodeIO)',\n",
       " 'PaulChaignon(pchaigno)']"
      ]
     },
     "execution_count": 79,
     "metadata": {},
     "output_type": "execute_result"
    }
   ],
   "source": [
    "# your code here\n",
    "soup = BeautifulSoup(html, 'lxml')\n",
    "\n",
    "table = soup.find_all(['h1','p'],{'class':['h3 lh-condensed','f4 text-normal mb-1']})\n",
    "\n",
    "rows_parsed = [row.text for row in table]\n",
    "\n",
    "#clean the names and the Nickname\n",
    "names_raw=[]\n",
    "for i in rows_parsed:\n",
    "    name=i.replace('\\n\\n','').replace(' ','')\n",
    "    names_raw.append(name)\n",
    "\n",
    "#order the name and the nickname in the list \"names\"\n",
    "names=[]\n",
    "for i in range(0,len(names_raw),2):\n",
    "    name_nick=names_raw[i]+'('+names_raw[i+1]+')'\n",
    "    names.append(name_nick)\n",
    "    \n",
    "names"
   ]
  },
  {
   "cell_type": "markdown",
   "metadata": {},
   "source": [
    "#### Display the trending Python repositories in GitHub.\n",
    "\n",
    "The steps to solve this problem is similar to the previous one except that you need to find out the repository names instead of developer names."
   ]
  },
  {
   "cell_type": "code",
   "execution_count": 80,
   "metadata": {},
   "outputs": [
    {
     "data": {
      "text/plain": [
       "b'\\n\\n\\n\\n\\n<!DOCTYPE html>\\n<html lang=\"en\">\\n  <head>\\n    <meta charset=\"utf-8\">\\n  <link rel=\"dns-prefetch\" href=\"https://github.githubassets.com\">\\n  <link rel=\"dns-prefetch\" href=\"https://avatars0.githubusercontent.com\">\\n  <link rel=\"dns-prefetch\" href=\"https://avatars1.githubusercontent.com\">\\n  <link rel=\"dns-prefetch\" href=\"https://avatars2.githubusercontent.com\">\\n  <link rel=\"dns-prefetch\" href=\"https://avatars3.githubusercontent.com\">\\n  <link rel=\"dns-prefetch\" href=\"https://github-cloud.s3.amazon'"
      ]
     },
     "execution_count": 80,
     "metadata": {},
     "output_type": "execute_result"
    }
   ],
   "source": [
    "# This is the url you will scrape in this exercise\n",
    "url_2= 'https://github.com/trending/python?since=daily'\n",
    "\n",
    "html_2= requests.get(url_2).content \n",
    "html_2[:500]\n"
   ]
  },
  {
   "cell_type": "code",
   "execution_count": 82,
   "metadata": {},
   "outputs": [
    {
     "data": {
      "text/plain": [
       "['avatarify',\n",
       " 'Bug-Bounty-Toolz',\n",
       " 'data-science-ipython-notebooks',\n",
       " 'pyconv',\n",
       " 'rasa',\n",
       " 'FastSurfer',\n",
       " 'rich',\n",
       " 'tf-pose-estimation',\n",
       " 'd2l-en',\n",
       " 'pwntools',\n",
       " 'zipline',\n",
       " 'YandexStation',\n",
       " 'Awesome-Bugbounty-Writeups',\n",
       " 'spleeter',\n",
       " 'siren',\n",
       " 'DeepCTR',\n",
       " 'forecasting',\n",
       " 'prefect',\n",
       " 'ModiScript',\n",
       " 'piper',\n",
       " 'Cura',\n",
       " 'erpnext',\n",
       " 'DeepCreamPy',\n",
       " 'telegram_gcloner',\n",
       " 'learn_python3_spider']"
      ]
     },
     "execution_count": 82,
     "metadata": {},
     "output_type": "execute_result"
    }
   ],
   "source": [
    "# your code here\n",
    "soup_2= BeautifulSoup(html_2, 'lxml')\n",
    "\n",
    "table = soup_2.find_all(['h1'],{'class':'h3 lh-condensed'})\n",
    "\n",
    "rows_parsed = [row.text for row in table]\n",
    "\n",
    "#clean the repositories\n",
    "repositories=[]\n",
    "for i in rows_parsed:\n",
    "    repository=i.split('/\\n\\n\\n\\n') #we divided the name and the repository in 2 parts\n",
    "    #take the second part and clen the \"left spaces\" with lstrip and \"\\n\" with replace\n",
    "    repository_clean=repository[1].replace('\\n\\n','').lstrip() \n",
    "    repositories.append(repository_clean)\n",
    "\n",
    "repositories"
   ]
  },
  {
   "cell_type": "markdown",
   "metadata": {},
   "source": [
    "#### Display all the image links from Walt Disney wikipedia page."
   ]
  },
  {
   "cell_type": "code",
   "execution_count": 83,
   "metadata": {},
   "outputs": [],
   "source": [
    "# This is the url you will scrape in this exercise\n",
    "url_3= 'https://en.wikipedia.org/wiki/Walt_Disney'\n",
    "\n",
    "html_3= requests.get(url_3).content \n"
   ]
  },
  {
   "cell_type": "code",
   "execution_count": 84,
   "metadata": {},
   "outputs": [
    {
     "data": {
      "text/plain": [
       "['https://en.wikipedia.org//wiki/File:Walt_Disney_1946.JPG',\n",
       " 'https://en.wikipedia.org//wiki/File:Walt_Disney_1942_signature.svg',\n",
       " 'https://en.wikipedia.org//wiki/File:Walt_Disney_envelope_ca._1921.jpg',\n",
       " 'https://en.wikipedia.org//wiki/File:Trolley_Troubles_poster.jpg',\n",
       " 'https://en.wikipedia.org//wiki/File:Walt_Disney_and_his_cartoon_creation_%22Mickey_Mouse%22_-_National_Board_of_Review_Magazine.jpg',\n",
       " 'https://en.wikipedia.org//wiki/File:Steamboat-willie.jpg',\n",
       " 'https://en.wikipedia.org//wiki/File:Walt_Disney_1935.jpg',\n",
       " 'https://en.wikipedia.org//wiki/File:Walt_Disney_Snow_white_1937_trailer_screenshot_(13).jpg',\n",
       " 'https://en.wikipedia.org//wiki/File:Disney_drawing_goofy.jpg',\n",
       " 'https://en.wikipedia.org//wiki/File:DisneySchiphol1951.jpg',\n",
       " 'https://en.wikipedia.org//wiki/File:WaltDisneyplansDisneylandDec1954.jpg',\n",
       " 'https://en.wikipedia.org//wiki/File:Walt_disney_portrait_right.jpg',\n",
       " 'https://en.wikipedia.org//wiki/File:Walt_Disney_Grave.JPG',\n",
       " 'https://en.wikipedia.org//wiki/File:Roy_O._Disney_with_Company_at_Press_Conference.jpg',\n",
       " 'https://en.wikipedia.org//wiki/File:Disney_Display_Case.JPG',\n",
       " 'https://en.wikipedia.org//wiki/File:Disney1968.jpg',\n",
       " 'https://en.wikipedia.org//wiki/File:The_Walt_Disney_Company_Logo.svg',\n",
       " 'https://en.wikipedia.org//wiki/File:Animation_disc.svg',\n",
       " 'https://en.wikipedia.org//wiki/File:P_vip.svg',\n",
       " 'https://en.wikipedia.org//wiki/File:Magic_Kingdom_castle.jpg',\n",
       " 'https://en.wikipedia.org//wiki/File:Video-x-generic.svg',\n",
       " 'https://en.wikipedia.org//wiki/File:Flag_of_Los_Angeles_County,_California.svg',\n",
       " 'https://en.wikipedia.org//wiki/File:Blank_television_set.svg',\n",
       " 'https://en.wikipedia.org//wiki/File:Flag_of_the_United_States.svg']"
      ]
     },
     "execution_count": 84,
     "metadata": {},
     "output_type": "execute_result"
    }
   ],
   "source": [
    "# your code here\n",
    "soup_3= BeautifulSoup(html_3, 'lxml')\n",
    "\n",
    "table = soup_3.find_all(['a'],{'class':'image'})\n",
    "\n",
    "\n",
    "images=[]\n",
    "for i in table:\n",
    "    web='https://en.wikipedia.org/'\n",
    "    web+=i['href']\n",
    "    images.append(web)\n",
    "\n",
    "images"
   ]
  },
  {
   "cell_type": "markdown",
   "metadata": {},
   "source": [
    "#### Retrieve an arbitary Wikipedia page of \"Python\" and create a list of links on that page."
   ]
  },
  {
   "cell_type": "code",
   "execution_count": 85,
   "metadata": {},
   "outputs": [],
   "source": [
    "# This is the url you will scrape in this exercise\n",
    "url_4='https://en.wikipedia.org/wiki/Python' \n",
    "html_4= requests.get(url_4).content \n"
   ]
  },
  {
   "cell_type": "code",
   "execution_count": 87,
   "metadata": {},
   "outputs": [
    {
     "data": {
      "text/plain": [
       "['https://en.wikipedia.org//wiki/Pythonidae',\n",
       " 'https://en.wikipedia.org//wiki/Python_(genus)',\n",
       " 'https://en.wikipedia.org//wiki/Python_(mythology)',\n",
       " 'https://en.wikipedia.org//wiki/Python_of_Aenus',\n",
       " 'https://en.wikipedia.org//wiki/Python_(painter)']"
      ]
     },
     "execution_count": 87,
     "metadata": {},
     "output_type": "execute_result"
    }
   ],
   "source": [
    "# your code here\n",
    "import random\n",
    "soup_4= BeautifulSoup(html_4, 'lxml')\n",
    "\n",
    "table = soup_4.find_all(['a'])\n",
    "\n",
    "list_webs_python=[]\n",
    "#obtain the list of python webs and add in a list\n",
    "for i in table:\n",
    "    try:\n",
    "        #we try to search the value 'href' because with this, we can obtain the url.\n",
    "        if i['href'].startswith('/wiki/Python'):\n",
    "            #we add the url in the list and it must start with \"https://en.wikipedia.org/\"\n",
    "            list_webs_python.append('https://en.wikipedia.org/' + i['href'])\n",
    "    except:\n",
    "        continue\n",
    "        \n",
    "list_webs_python[:5]"
   ]
  },
  {
   "cell_type": "code",
   "execution_count": 88,
   "metadata": {},
   "outputs": [],
   "source": [
    "#we choice an arbitrary web of python\n",
    "url_4_arbitray = random.choice(list_webs_python)\n",
    "html_4_arbitrary = requests.get(url_4_arbitray).content "
   ]
  },
  {
   "cell_type": "code",
   "execution_count": 89,
   "metadata": {},
   "outputs": [
    {
     "data": {
      "text/plain": [
       "['https://en.wikipedia.org//wiki/File:Question_book-new.svg',\n",
       " 'https://en.wikipedia.org//wiki/Wikipedia:Verifiability',\n",
       " 'https://en.wikipedia.org//wiki/Help:Referencing_for_beginners',\n",
       " 'https://en.wikipedia.org//wiki/Help:Maintenance_template_removal',\n",
       " 'https://en.wikipedia.org//wiki/File:Coney_Island_Pepsi_Python.jpg']"
      ]
     },
     "execution_count": 89,
     "metadata": {},
     "output_type": "execute_result"
    }
   ],
   "source": [
    "soup_4_arbitray= BeautifulSoup(html_4_arbitrary, 'lxml')\n",
    "\n",
    "table_2= soup_4_arbitray.find_all(['a'])\n",
    "table_2\n",
    "\n",
    "#we repeat the stpes of we do with the wikipedia python web\n",
    "list_webs_arbitray=[]\n",
    "for i in table_2:\n",
    "    try:\n",
    "        if i['href'].startswith('/wiki/'):\n",
    "            list_webs_arbitray.append('https://en.wikipedia.org/' + i['href'])\n",
    "    except:\n",
    "        continue\n",
    "list_webs_arbitray [:5]"
   ]
  },
  {
   "cell_type": "markdown",
   "metadata": {},
   "source": [
    "#### Find the number of titles that have changed in the United States Code since its last release point."
   ]
  },
  {
   "cell_type": "code",
   "execution_count": 91,
   "metadata": {},
   "outputs": [],
   "source": [
    "# This is the url you will scrape in this exercise\n",
    "url_5 = 'http://uscode.house.gov/download/download.shtml'\n",
    "html_5 = requests.get(url_5).content"
   ]
  },
  {
   "cell_type": "code",
   "execution_count": 92,
   "metadata": {},
   "outputs": [
    {
     "data": {
      "text/plain": [
       "['Title 5 - Government Organization and Employees ٭',\n",
       " 'Title 8 - Aliens and Nationality',\n",
       " 'Title 10 - Armed Forces ٭',\n",
       " 'Title 16 - Conservation',\n",
       " 'Title 19 - Customs Duties',\n",
       " 'Title 36 - Patriotic and National Observances, Ceremonies, and Organizations ٭',\n",
       " 'Title 50 - War and National Defense']"
      ]
     },
     "execution_count": 92,
     "metadata": {},
     "output_type": "execute_result"
    }
   ],
   "source": [
    "# your code here\n",
    "import re\n",
    "soup_5 = BeautifulSoup(html_5, 'lxml')\n",
    "table= soup_5.find_all(['div'],{'class':'usctitlechanged'})\n",
    "\n",
    "titles_changed=[]\n",
    "for i in table:\n",
    "    changed_1=re.sub('\\n','',i.text) #clean the \"\\n\" of each title\n",
    "    changed_2=re.sub(' {2,}','',changed_1) #clean the spaces(in the start and finish) of the title\n",
    "    titles_changed.append(changed_2)\n",
    "\n",
    "titles_changed"
   ]
  },
  {
   "cell_type": "markdown",
   "metadata": {},
   "source": [
    "#### Find a Python list with the top ten FBI's Most Wanted names."
   ]
  },
  {
   "cell_type": "code",
   "execution_count": 93,
   "metadata": {},
   "outputs": [],
   "source": [
    "# This is the url you will scrape in this exercise\n",
    "url_6 = 'https://www.fbi.gov/wanted/topten'\n",
    "html_6 = requests.get(url_6).content"
   ]
  },
  {
   "cell_type": "code",
   "execution_count": 94,
   "metadata": {},
   "outputs": [
    {
     "data": {
      "text/plain": [
       "['JASON DEREK BROWN',\n",
       " 'YASER ABDEL SAID',\n",
       " 'ALEXIS FLORES',\n",
       " 'EUGENE PALMER',\n",
       " 'SANTIAGO VILLALBA MEDEROS',\n",
       " 'RAFAEL CARO-QUINTERO',\n",
       " 'ROBERT WILLIAM FISHER',\n",
       " 'BHADRESHKUMAR CHETANBHAI PATEL',\n",
       " 'ALEJANDRO ROSALES CASTILLO',\n",
       " 'ARNOLDO JIMENEZ']"
      ]
     },
     "execution_count": 94,
     "metadata": {},
     "output_type": "execute_result"
    }
   ],
   "source": [
    "# your code here\n",
    "import re\n",
    "soup_6 = BeautifulSoup(html_6, 'lxml')\n",
    "table= soup_6.find_all(['h3'],{'class':'title'})\n",
    "\n",
    "top_ten=[]\n",
    "for i in table:\n",
    "    name=re.sub('\\n','',i.text)\n",
    "    top_ten.append(name)\n",
    "\n",
    "top_ten"
   ]
  },
  {
   "cell_type": "markdown",
   "metadata": {},
   "source": [
    "####  Display the 20 latest earthquakes info (date, time, latitude, longitude and region name) by the EMSC as a pandas dataframe."
   ]
  },
  {
   "cell_type": "code",
   "execution_count": 95,
   "metadata": {},
   "outputs": [],
   "source": [
    "# This is the url you will scrape in this exercise\n",
    "url_7 = 'https://www.emsc-csem.org/Earthquake/'\n",
    "html_7 = requests.get(url_7).content"
   ]
  },
  {
   "cell_type": "code",
   "execution_count": 96,
   "metadata": {},
   "outputs": [],
   "source": [
    "# your code here\n",
    "soup_7 = BeautifulSoup(html_7, 'lxml')\n",
    "table= soup_7.find_all(['td'],{'class':['tabev6','tabev1','tabev2','tb_region']})\n",
    "\n",
    "#create a DF with the 5 columns\n",
    "earthquakes_df=pd.DataFrame(columns=['date','time','latitude','longitude','region_name'])\n",
    "#change the type of the column date\n",
    "earthquakes_df['date']=pd.to_datetime(earthquakes_df['date'])\n",
    "#change the type of the column time\n",
    "earthquakes_df['time']=pd.to_datetime(earthquakes_df['time'],format='H%:M%:S%')\n",
    "   \n",
    "    "
   ]
  },
  {
   "cell_type": "code",
   "execution_count": 97,
   "metadata": {},
   "outputs": [],
   "source": [
    "#use a loop \"for\" for to see the list \"table\" where we have the information of the API\n",
    "#in our list \"table\", the information of each earthquakes has 7 items\n",
    "#we have to see the loop in jumps of 7\n",
    "\n",
    "count=0\n",
    "number=20 #number of last earthquakes we want to see\n",
    "\n",
    "for i in range(0,number*7,7):\n",
    "    #we see the date in the first element\n",
    "    earthquakes_df.loc[count,'date']=table[i].text[10:20]\n",
    "    \n",
    "    #we see the time in the first element\n",
    "    earthquakes_df.loc[count,'time']=table[i].text[23:31]\n",
    "    \n",
    "    #we see the latitude in the second (number) and third (letter) elements\n",
    "    lat_num=table[(i+1)].text.replace('\\xa0','') \n",
    "    lat_letter=table[(i+2)].text.replace('\\xa0','')\n",
    "    earthquakes_df.loc[count,'latitude']= lat_num + ' ' + lat_letter\n",
    "    \n",
    "    #we see the longitude in the fourth (number) and fifth (letter) elements\n",
    "    lon_num=table[(i+3)].text.replace('\\xa0','') \n",
    "    lon_letter=table[(i+4)].text.replace('\\xa0','')\n",
    "    earthquakes_df.loc[count,'longitude']= lon_num + ' ' + lon_letter\n",
    "    \n",
    "    #we see the region_name in the seventh element\n",
    "    earthquakes_df.loc[count,'region_name']=table[(i+6)].text.replace('\\xa0','') \n",
    "    count+=1\n",
    "    "
   ]
  },
  {
   "cell_type": "code",
   "execution_count": 98,
   "metadata": {},
   "outputs": [
    {
     "data": {
      "text/html": [
       "<div>\n",
       "<style scoped>\n",
       "    .dataframe tbody tr th:only-of-type {\n",
       "        vertical-align: middle;\n",
       "    }\n",
       "\n",
       "    .dataframe tbody tr th {\n",
       "        vertical-align: top;\n",
       "    }\n",
       "\n",
       "    .dataframe thead th {\n",
       "        text-align: right;\n",
       "    }\n",
       "</style>\n",
       "<table border=\"1\" class=\"dataframe\">\n",
       "  <thead>\n",
       "    <tr style=\"text-align: right;\">\n",
       "      <th></th>\n",
       "      <th>date</th>\n",
       "      <th>time</th>\n",
       "      <th>latitude</th>\n",
       "      <th>longitude</th>\n",
       "      <th>region_name</th>\n",
       "    </tr>\n",
       "  </thead>\n",
       "  <tbody>\n",
       "    <tr>\n",
       "      <th>0</th>\n",
       "      <td>2020-06-28</td>\n",
       "      <td>22:49:29</td>\n",
       "      <td>9.52 S</td>\n",
       "      <td>117.79 E</td>\n",
       "      <td>SUMBAWA REGION, INDONESIA</td>\n",
       "    </tr>\n",
       "    <tr>\n",
       "      <th>1</th>\n",
       "      <td>2020-06-28</td>\n",
       "      <td>22:48:54</td>\n",
       "      <td>18.00 N</td>\n",
       "      <td>66.83 W</td>\n",
       "      <td>PUERTO RICO</td>\n",
       "    </tr>\n",
       "    <tr>\n",
       "      <th>2</th>\n",
       "      <td>2020-06-28</td>\n",
       "      <td>22:47:50</td>\n",
       "      <td>36.73 N</td>\n",
       "      <td>121.40 W</td>\n",
       "      <td>CENTRAL CALIFORNIA</td>\n",
       "    </tr>\n",
       "    <tr>\n",
       "      <th>3</th>\n",
       "      <td>2020-06-28</td>\n",
       "      <td>22:40:19</td>\n",
       "      <td>15.65 N</td>\n",
       "      <td>96.14 W</td>\n",
       "      <td>OFFSHORE OAXACA, MEXICO</td>\n",
       "    </tr>\n",
       "    <tr>\n",
       "      <th>4</th>\n",
       "      <td>2020-06-28</td>\n",
       "      <td>22:34:16</td>\n",
       "      <td>17.91 N</td>\n",
       "      <td>66.95 W</td>\n",
       "      <td>PUERTO RICO REGION</td>\n",
       "    </tr>\n",
       "    <tr>\n",
       "      <th>5</th>\n",
       "      <td>2020-06-28</td>\n",
       "      <td>22:24:54</td>\n",
       "      <td>17.97 N</td>\n",
       "      <td>66.91 W</td>\n",
       "      <td>PUERTO RICO</td>\n",
       "    </tr>\n",
       "    <tr>\n",
       "      <th>6</th>\n",
       "      <td>2020-06-28</td>\n",
       "      <td>22:17:12</td>\n",
       "      <td>33.24 N</td>\n",
       "      <td>115.67 W</td>\n",
       "      <td>SOUTHERN CALIFORNIA</td>\n",
       "    </tr>\n",
       "    <tr>\n",
       "      <th>7</th>\n",
       "      <td>2020-06-28</td>\n",
       "      <td>22:13:58</td>\n",
       "      <td>33.23 N</td>\n",
       "      <td>115.70 W</td>\n",
       "      <td>SOUTHERN CALIFORNIA</td>\n",
       "    </tr>\n",
       "    <tr>\n",
       "      <th>8</th>\n",
       "      <td>2020-06-28</td>\n",
       "      <td>22:13:57</td>\n",
       "      <td>2.57 S</td>\n",
       "      <td>118.98 E</td>\n",
       "      <td>SULAWESI, INDONESIA</td>\n",
       "    </tr>\n",
       "    <tr>\n",
       "      <th>9</th>\n",
       "      <td>2020-06-28</td>\n",
       "      <td>22:10:46</td>\n",
       "      <td>17.84 N</td>\n",
       "      <td>66.95 W</td>\n",
       "      <td>PUERTO RICO REGION</td>\n",
       "    </tr>\n",
       "    <tr>\n",
       "      <th>10</th>\n",
       "      <td>2020-06-28</td>\n",
       "      <td>21:59:30</td>\n",
       "      <td>17.98 N</td>\n",
       "      <td>66.95 W</td>\n",
       "      <td>PUERTO RICO</td>\n",
       "    </tr>\n",
       "    <tr>\n",
       "      <th>11</th>\n",
       "      <td>2020-06-28</td>\n",
       "      <td>21:43:58</td>\n",
       "      <td>17.97 N</td>\n",
       "      <td>66.95 W</td>\n",
       "      <td>PUERTO RICO</td>\n",
       "    </tr>\n",
       "    <tr>\n",
       "      <th>12</th>\n",
       "      <td>2020-06-28</td>\n",
       "      <td>21:31:55</td>\n",
       "      <td>35.59 N</td>\n",
       "      <td>26.74 E</td>\n",
       "      <td>CRETE, GREECE</td>\n",
       "    </tr>\n",
       "    <tr>\n",
       "      <th>13</th>\n",
       "      <td>2020-06-28</td>\n",
       "      <td>21:27:13</td>\n",
       "      <td>18.23 N</td>\n",
       "      <td>72.09 W</td>\n",
       "      <td>HAITI REGION</td>\n",
       "    </tr>\n",
       "    <tr>\n",
       "      <th>14</th>\n",
       "      <td>2020-06-28</td>\n",
       "      <td>20:16:53</td>\n",
       "      <td>31.79 S</td>\n",
       "      <td>69.16 W</td>\n",
       "      <td>SAN JUAN, ARGENTINA</td>\n",
       "    </tr>\n",
       "    <tr>\n",
       "      <th>15</th>\n",
       "      <td>2020-06-28</td>\n",
       "      <td>20:14:48</td>\n",
       "      <td>2.67 N</td>\n",
       "      <td>96.21 E</td>\n",
       "      <td>SIMEULUE, INDONESIA</td>\n",
       "    </tr>\n",
       "    <tr>\n",
       "      <th>16</th>\n",
       "      <td>2020-06-28</td>\n",
       "      <td>20:08:51</td>\n",
       "      <td>19.20 N</td>\n",
       "      <td>155.39 W</td>\n",
       "      <td>ISLAND OF HAWAII, HAWAII</td>\n",
       "    </tr>\n",
       "    <tr>\n",
       "      <th>17</th>\n",
       "      <td>2020-06-28</td>\n",
       "      <td>19:46:52</td>\n",
       "      <td>66.28 N</td>\n",
       "      <td>18.56 W</td>\n",
       "      <td>ICELAND REGION</td>\n",
       "    </tr>\n",
       "    <tr>\n",
       "      <th>18</th>\n",
       "      <td>2020-06-28</td>\n",
       "      <td>19:17:01</td>\n",
       "      <td>3.40 S</td>\n",
       "      <td>131.25 E</td>\n",
       "      <td>CERAM SEA, INDONESIA</td>\n",
       "    </tr>\n",
       "    <tr>\n",
       "      <th>19</th>\n",
       "      <td>2020-06-28</td>\n",
       "      <td>19:11:02</td>\n",
       "      <td>21.10 S</td>\n",
       "      <td>68.94 W</td>\n",
       "      <td>TARAPACA, CHILE</td>\n",
       "    </tr>\n",
       "  </tbody>\n",
       "</table>\n",
       "</div>"
      ],
      "text/plain": [
       "          date      time latitude longitude                region_name\n",
       "0   2020-06-28  22:49:29   9.52 S  117.79 E  SUMBAWA REGION, INDONESIA\n",
       "1   2020-06-28  22:48:54  18.00 N   66.83 W                PUERTO RICO\n",
       "2   2020-06-28  22:47:50  36.73 N  121.40 W         CENTRAL CALIFORNIA\n",
       "3   2020-06-28  22:40:19  15.65 N   96.14 W    OFFSHORE OAXACA, MEXICO\n",
       "4   2020-06-28  22:34:16  17.91 N   66.95 W         PUERTO RICO REGION\n",
       "5   2020-06-28  22:24:54  17.97 N   66.91 W                PUERTO RICO\n",
       "6   2020-06-28  22:17:12  33.24 N  115.67 W        SOUTHERN CALIFORNIA\n",
       "7   2020-06-28  22:13:58  33.23 N  115.70 W        SOUTHERN CALIFORNIA\n",
       "8   2020-06-28  22:13:57   2.57 S  118.98 E        SULAWESI, INDONESIA\n",
       "9   2020-06-28  22:10:46  17.84 N   66.95 W         PUERTO RICO REGION\n",
       "10  2020-06-28  21:59:30  17.98 N   66.95 W                PUERTO RICO\n",
       "11  2020-06-28  21:43:58  17.97 N   66.95 W                PUERTO RICO\n",
       "12  2020-06-28  21:31:55  35.59 N   26.74 E              CRETE, GREECE\n",
       "13  2020-06-28  21:27:13  18.23 N   72.09 W               HAITI REGION\n",
       "14  2020-06-28  20:16:53  31.79 S   69.16 W        SAN JUAN, ARGENTINA\n",
       "15  2020-06-28  20:14:48   2.67 N   96.21 E        SIMEULUE, INDONESIA\n",
       "16  2020-06-28  20:08:51  19.20 N  155.39 W   ISLAND OF HAWAII, HAWAII\n",
       "17  2020-06-28  19:46:52  66.28 N   18.56 W             ICELAND REGION\n",
       "18  2020-06-28  19:17:01   3.40 S  131.25 E       CERAM SEA, INDONESIA\n",
       "19  2020-06-28  19:11:02  21.10 S   68.94 W            TARAPACA, CHILE"
      ]
     },
     "execution_count": 98,
     "metadata": {},
     "output_type": "execute_result"
    }
   ],
   "source": [
    "earthquakes_df"
   ]
  },
  {
   "cell_type": "markdown",
   "metadata": {},
   "source": [
    "#### Count the number of tweets by a given Twitter account.\n",
    "Ask the user for the handle (@handle) of a twitter account. You will need to include a ***try/except block*** for account names not found. \n",
    "<br>***Hint:*** the program should count the number of tweets for any provided account."
   ]
  },
  {
   "cell_type": "code",
   "execution_count": null,
   "metadata": {},
   "outputs": [],
   "source": [
    "# This is the url you will scrape in this exercise \n",
    "# You will need to add the account credentials to this url\n",
    "url = 'https://twitter.com/'"
   ]
  },
  {
   "cell_type": "code",
   "execution_count": null,
   "metadata": {},
   "outputs": [],
   "source": [
    "# your code here"
   ]
  },
  {
   "cell_type": "markdown",
   "metadata": {},
   "source": [
    "#### Number of followers of a given twitter account\n",
    "Ask the user for the handle (@handle) of a twitter account. You will need to include a ***try/except block*** for account names not found. \n",
    "<br>***Hint:*** the program should count the followers for any provided account."
   ]
  },
  {
   "cell_type": "code",
   "execution_count": null,
   "metadata": {},
   "outputs": [],
   "source": [
    "# This is the url you will scrape in this exercise \n",
    "# You will need to add the account credentials to this url\n",
    "url = 'https://twitter.com/'"
   ]
  },
  {
   "cell_type": "code",
   "execution_count": null,
   "metadata": {},
   "outputs": [],
   "source": [
    "# your code here"
   ]
  },
  {
   "cell_type": "markdown",
   "metadata": {},
   "source": [
    "#### List all language names and number of related articles in the order they appear in wikipedia.org."
   ]
  },
  {
   "cell_type": "code",
   "execution_count": null,
   "metadata": {},
   "outputs": [],
   "source": [
    "# This is the url you will scrape in this exercise\n",
    "url = 'https://www.wikipedia.org/'"
   ]
  },
  {
   "cell_type": "code",
   "execution_count": null,
   "metadata": {},
   "outputs": [],
   "source": [
    "# your code here"
   ]
  },
  {
   "cell_type": "markdown",
   "metadata": {},
   "source": [
    "#### A list with the different kind of datasets available in data.gov.uk."
   ]
  },
  {
   "cell_type": "code",
   "execution_count": null,
   "metadata": {},
   "outputs": [],
   "source": [
    "# This is the url you will scrape in this exercise\n",
    "url = 'https://data.gov.uk/'"
   ]
  },
  {
   "cell_type": "code",
   "execution_count": null,
   "metadata": {},
   "outputs": [],
   "source": [
    "# your code here"
   ]
  },
  {
   "cell_type": "markdown",
   "metadata": {},
   "source": [
    "#### Display the top 10 languages by number of native speakers stored in a pandas dataframe."
   ]
  },
  {
   "cell_type": "code",
   "execution_count": null,
   "metadata": {},
   "outputs": [],
   "source": [
    "# This is the url you will scrape in this exercise\n",
    "url = 'https://en.wikipedia.org/wiki/List_of_languages_by_number_of_native_speakers'"
   ]
  },
  {
   "cell_type": "code",
   "execution_count": null,
   "metadata": {},
   "outputs": [],
   "source": [
    "# your code here"
   ]
  },
  {
   "cell_type": "markdown",
   "metadata": {},
   "source": [
    "## Bonus\n",
    "#### Scrape a certain number of tweets of a given Twitter account."
   ]
  },
  {
   "cell_type": "code",
   "execution_count": null,
   "metadata": {},
   "outputs": [],
   "source": [
    "# This is the url you will scrape in this exercise \n",
    "# You will need to add the account credentials to this url\n",
    "url = 'https://twitter.com/'"
   ]
  },
  {
   "cell_type": "code",
   "execution_count": null,
   "metadata": {},
   "outputs": [],
   "source": [
    "# your code here"
   ]
  },
  {
   "cell_type": "markdown",
   "metadata": {},
   "source": [
    "#### Display IMDB's top 250 data (movie name, initial release, director name and stars) as a pandas dataframe."
   ]
  },
  {
   "cell_type": "code",
   "execution_count": null,
   "metadata": {},
   "outputs": [],
   "source": [
    "# This is the url you will scrape in this exercise \n",
    "url = 'https://www.imdb.com/chart/top'"
   ]
  },
  {
   "cell_type": "code",
   "execution_count": null,
   "metadata": {},
   "outputs": [],
   "source": [
    "# your code here"
   ]
  },
  {
   "cell_type": "markdown",
   "metadata": {},
   "source": [
    "#### Display the movie name, year and a brief summary of the top 10 random movies (IMDB) as a pandas dataframe."
   ]
  },
  {
   "cell_type": "code",
   "execution_count": null,
   "metadata": {},
   "outputs": [],
   "source": [
    "#This is the url you will scrape in this exercise\n",
    "url = 'http://www.imdb.com/chart/top'"
   ]
  },
  {
   "cell_type": "code",
   "execution_count": null,
   "metadata": {},
   "outputs": [],
   "source": [
    "# your code here"
   ]
  },
  {
   "cell_type": "markdown",
   "metadata": {},
   "source": [
    "#### Find the live weather report (temperature, wind speed, description and weather) of a given city."
   ]
  },
  {
   "cell_type": "code",
   "execution_count": null,
   "metadata": {},
   "outputs": [],
   "source": [
    "#https://openweathermap.org/current\n",
    "city = input('Enter the city: ')\n",
    "url = 'http://api.openweathermap.org/data/2.5/weather?'+'q='+city+'&APPID=b35975e18dc93725acb092f7272cc6b8&units=metric'"
   ]
  },
  {
   "cell_type": "code",
   "execution_count": null,
   "metadata": {},
   "outputs": [],
   "source": [
    "# your code here"
   ]
  },
  {
   "cell_type": "markdown",
   "metadata": {},
   "source": [
    "#### Find the book name, price and stock availability as a pandas dataframe."
   ]
  },
  {
   "cell_type": "code",
   "execution_count": null,
   "metadata": {},
   "outputs": [],
   "source": [
    "# This is the url you will scrape in this exercise. \n",
    "# It is a fictional bookstore created to be scraped. \n",
    "url = 'http://books.toscrape.com/'"
   ]
  },
  {
   "cell_type": "code",
   "execution_count": null,
   "metadata": {},
   "outputs": [],
   "source": [
    "# your code here"
   ]
  }
 ],
 "metadata": {
  "kernelspec": {
   "display_name": "Python [conda env:IronHack_env]",
   "language": "python",
   "name": "conda-env-IronHack_env-py"
  },
  "language_info": {
   "codemirror_mode": {
    "name": "ipython",
    "version": 3
   },
   "file_extension": ".py",
   "mimetype": "text/x-python",
   "name": "python",
   "nbconvert_exporter": "python",
   "pygments_lexer": "ipython3",
   "version": "3.7.7"
  }
 },
 "nbformat": 4,
 "nbformat_minor": 4
}
