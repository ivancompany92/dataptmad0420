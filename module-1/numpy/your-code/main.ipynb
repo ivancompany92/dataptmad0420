{
 "cells": [
  {
   "cell_type": "markdown",
   "metadata": {},
   "source": [
    "# Introduction to NumPy\n",
    "\n",
    "\n",
    "#### 1. Import NumPy under the name np."
   ]
  },
  {
   "cell_type": "code",
   "execution_count": 1,
   "metadata": {},
   "outputs": [],
   "source": [
    "# your code here\n",
    "import numpy as np"
   ]
  },
  {
   "cell_type": "markdown",
   "metadata": {},
   "source": [
    "#### 2. Print your NumPy version."
   ]
  },
  {
   "cell_type": "code",
   "execution_count": 2,
   "metadata": {},
   "outputs": [
    {
     "data": {
      "text/plain": [
       "'1.18.1'"
      ]
     },
     "execution_count": 2,
     "metadata": {},
     "output_type": "execute_result"
    }
   ],
   "source": [
    "# your code here\n",
    "np.version.version"
   ]
  },
  {
   "cell_type": "markdown",
   "metadata": {},
   "source": [
    "#### 3. Generate a 2x3x5 3-dimensional array with random values. Assign the array to variable *a*.\n",
    "**Challenge**: there are at least three easy ways that use numpy to generate random arrays. How many ways can you find?"
   ]
  },
  {
   "cell_type": "code",
   "execution_count": 3,
   "metadata": {},
   "outputs": [],
   "source": [
    "# Method 1\n",
    "a=np.random.random((2,3,5)) #random valors between 0 and 1 (but not included the number 1)\n"
   ]
  },
  {
   "cell_type": "code",
   "execution_count": 4,
   "metadata": {},
   "outputs": [],
   "source": [
    "# Method 2\n",
    "a=np.random.rand(2,3,5)  #other form with rand\n"
   ]
  },
  {
   "cell_type": "code",
   "execution_count": 5,
   "metadata": {},
   "outputs": [],
   "source": [
    "# Method 3\n",
    "a=np.random.ranf((2,3,5)) #other form with ranf\n"
   ]
  },
  {
   "cell_type": "markdown",
   "metadata": {},
   "source": [
    "#### 4. Print *a*.\n"
   ]
  },
  {
   "cell_type": "code",
   "execution_count": 6,
   "metadata": {},
   "outputs": [
    {
     "data": {
      "text/plain": [
       "array([[[0.86727796, 0.74239057, 0.59349874, 0.68442072, 0.81952371],\n",
       "        [0.71868111, 0.24239272, 0.45945018, 0.0229523 , 0.49586134],\n",
       "        [0.35789196, 0.22389139, 0.56503513, 0.00395188, 0.89453593]],\n",
       "\n",
       "       [[0.090906  , 0.11251085, 0.47741232, 0.54362031, 0.61781174],\n",
       "        [0.5785119 , 0.13466542, 0.80027918, 0.13768054, 0.89667849],\n",
       "        [0.69055335, 0.80879624, 0.78610832, 0.18966181, 0.34933771]]])"
      ]
     },
     "execution_count": 6,
     "metadata": {},
     "output_type": "execute_result"
    }
   ],
   "source": [
    "# your code here\n",
    "a"
   ]
  },
  {
   "cell_type": "markdown",
   "metadata": {},
   "source": [
    "#### 5. Create a 5x2x3 3-dimensional array with all values equaling 1. Assign the array to variable *b*."
   ]
  },
  {
   "cell_type": "code",
   "execution_count": 7,
   "metadata": {},
   "outputs": [],
   "source": [
    "# your code here\n",
    "b=np.ones((5,2,3)) # use np.ones (array with all valors = 1)"
   ]
  },
  {
   "cell_type": "markdown",
   "metadata": {},
   "source": [
    "#### 6. Print *b*.\n"
   ]
  },
  {
   "cell_type": "code",
   "execution_count": 8,
   "metadata": {},
   "outputs": [
    {
     "data": {
      "text/plain": [
       "array([[[1., 1., 1.],\n",
       "        [1., 1., 1.]],\n",
       "\n",
       "       [[1., 1., 1.],\n",
       "        [1., 1., 1.]],\n",
       "\n",
       "       [[1., 1., 1.],\n",
       "        [1., 1., 1.]],\n",
       "\n",
       "       [[1., 1., 1.],\n",
       "        [1., 1., 1.]],\n",
       "\n",
       "       [[1., 1., 1.],\n",
       "        [1., 1., 1.]]])"
      ]
     },
     "execution_count": 8,
     "metadata": {},
     "output_type": "execute_result"
    }
   ],
   "source": [
    "# your code here\n",
    "b"
   ]
  },
  {
   "cell_type": "markdown",
   "metadata": {},
   "source": [
    "#### 7. Do *a* and *b* have the same size? How do you prove that in Python code?"
   ]
  },
  {
   "cell_type": "code",
   "execution_count": 9,
   "metadata": {},
   "outputs": [
    {
     "data": {
      "text/plain": [
       "True"
      ]
     },
     "execution_count": 9,
     "metadata": {},
     "output_type": "execute_result"
    }
   ],
   "source": [
    "# your code here\n",
    "np.size(a)==np.size(b)"
   ]
  },
  {
   "cell_type": "markdown",
   "metadata": {},
   "source": [
    "#### 8. Are you able to add *a* and *b*? Why or why not?\n"
   ]
  },
  {
   "cell_type": "code",
   "execution_count": 10,
   "metadata": {},
   "outputs": [
    {
     "data": {
      "text/plain": [
       "False"
      ]
     },
     "execution_count": 10,
     "metadata": {},
     "output_type": "execute_result"
    }
   ],
   "source": [
    "# your answer here\n",
    "#np.add(a,b) \n",
    "# we can not add a + be because these arrays has different rows and columns (different \"shape\")\n",
    "np.shape(a)==np.shape(b)"
   ]
  },
  {
   "cell_type": "markdown",
   "metadata": {},
   "source": [
    "#### 9. Transpose *b* so that it has the same structure of *a* (i.e. become a 2x3x5 array). Assign the transposed array to variable *c*."
   ]
  },
  {
   "cell_type": "code",
   "execution_count": 14,
   "metadata": {},
   "outputs": [
    {
     "name": "stdout",
     "output_type": "stream",
     "text": [
      "[[[1. 1. 1. 1. 1.]\n",
      "  [1. 1. 1. 1. 1.]\n",
      "  [1. 1. 1. 1. 1.]]\n",
      "\n",
      " [[1. 1. 1. 1. 1.]\n",
      "  [1. 1. 1. 1. 1.]\n",
      "  [1. 1. 1. 1. 1.]]]\n"
     ]
    }
   ],
   "source": [
    "# your code here\n",
    "c=np.transpose(b,(1,2,0))  #we use np.transpose \n",
    "print(c)"
   ]
  },
  {
   "cell_type": "markdown",
   "metadata": {},
   "source": [
    "#### 10. Try to add *a* and *c*. Now it should work. Assign the sum to variable *d*. But why does it work now?"
   ]
  },
  {
   "cell_type": "code",
   "execution_count": 15,
   "metadata": {},
   "outputs": [],
   "source": [
    "# your code/answer here\n",
    "d=np.add(a,c)\n",
    "#work because both arrays has the same \"shape\" (2x3x5)"
   ]
  },
  {
   "cell_type": "markdown",
   "metadata": {},
   "source": [
    "#### 11. Print *a* and *d*. Notice the difference and relation of the two array in terms of the values? Explain."
   ]
  },
  {
   "cell_type": "code",
   "execution_count": 46,
   "metadata": {},
   "outputs": [
    {
     "name": "stdout",
     "output_type": "stream",
     "text": [
      "[[[0.86727796 0.74239057 0.59349874 0.68442072 0.81952371]\n",
      "  [0.71868111 0.24239272 0.45945018 0.0229523  0.49586134]\n",
      "  [0.35789196 0.22389139 0.56503513 0.00395188 0.89453593]]\n",
      "\n",
      " [[0.090906   0.11251085 0.47741232 0.54362031 0.61781174]\n",
      "  [0.5785119  0.13466542 0.80027918 0.13768054 0.89667849]\n",
      "  [0.69055335 0.80879624 0.78610832 0.18966181 0.34933771]]]\n",
      "\n",
      "\n",
      "\n",
      "[[[1.86727796 1.74239057 1.59349874 1.68442072 1.81952371]\n",
      "  [1.71868111 1.24239272 1.45945018 1.0229523  1.49586134]\n",
      "  [1.35789196 1.22389139 1.56503513 1.00395188 1.89453593]]\n",
      "\n",
      " [[1.090906   1.11251085 1.47741232 1.54362031 1.61781174]\n",
      "  [1.5785119  1.13466542 1.80027918 1.13768054 1.89667849]\n",
      "  [1.69055335 1.80879624 1.78610832 1.18966181 1.34933771]]]\n"
     ]
    }
   ],
   "source": [
    "# your code/answer here\n",
    "print(a)\n",
    "print('\\n\\n')\n",
    "print(d)\n",
    "#the matrix d has the sum a+c, and the array c is with all values 1. \n",
    "#For this reason the values of the array d (in the same position) has 1 unit more than the array a "
   ]
  },
  {
   "cell_type": "markdown",
   "metadata": {},
   "source": [
    "#### 12. Multiply *a* and *c*. Assign the result to *e*."
   ]
  },
  {
   "cell_type": "code",
   "execution_count": 20,
   "metadata": {},
   "outputs": [],
   "source": [
    "# your code here\n",
    "e=np.multiply(a,c)"
   ]
  },
  {
   "cell_type": "markdown",
   "metadata": {},
   "source": [
    "#### 13. Does *e* equal to *a*? Why or why not?\n"
   ]
  },
  {
   "cell_type": "code",
   "execution_count": 21,
   "metadata": {},
   "outputs": [
    {
     "name": "stdout",
     "output_type": "stream",
     "text": [
      "[[[ True  True  True  True  True]\n",
      "  [ True  True  True  True  True]\n",
      "  [ True  True  True  True  True]]\n",
      "\n",
      " [[ True  True  True  True  True]\n",
      "  [ True  True  True  True  True]\n",
      "  [ True  True  True  True  True]]]\n"
     ]
    }
   ],
   "source": [
    "# your code/answer here\n",
    "print(e==a)\n",
    "#because the array c all values are 1. If we multiply for 1, we have the same value :)"
   ]
  },
  {
   "cell_type": "markdown",
   "metadata": {},
   "source": [
    "#### 14. Identify the max, min, and mean values in *d*. Assign those values to variables *d_max*, *d_min* and *d_mean*."
   ]
  },
  {
   "cell_type": "code",
   "execution_count": 34,
   "metadata": {},
   "outputs": [
    {
     "name": "stdout",
     "output_type": "stream",
     "text": [
      "The max value in d is 1.89667848838323.\n",
      "The min value in d is 1.0039518771165208.\n",
      "The mean value in d is 1.4968763273991843.\n"
     ]
    }
   ],
   "source": [
    "# your code here\n",
    "d_max=np.max(d)\n",
    "d_min=np.min(d)\n",
    "d_mean=np.mean(d)\n",
    "print(f'The max value in d is {d_max}.\\nThe min value in d is {d_min}.\\nThe mean value in d is {d_mean}.')"
   ]
  },
  {
   "cell_type": "markdown",
   "metadata": {},
   "source": [
    "#### 15. Now we want to label the values in *d*. First create an empty array *f* with the same shape (i.e. 2x3x5) as *d* using `np.empty`.\n"
   ]
  },
  {
   "cell_type": "code",
   "execution_count": 51,
   "metadata": {},
   "outputs": [],
   "source": [
    "# your code here\n",
    "f=np.empty((2,3,5))"
   ]
  },
  {
   "cell_type": "markdown",
   "metadata": {},
   "source": [
    "#### 16. Populate the values in *f*. \n",
    "\n",
    "For each value in *d*, if it's larger than *d_min* but smaller than *d_mean*, assign 25 to the corresponding value in *f*. If a value in *d* is larger than *d_mean* but smaller than *d_max*, assign 75 to the corresponding value in *f*. If a value equals to *d_mean*, assign 50 to the corresponding value in *f*. Assign 0 to the corresponding value(s) in *f* for *d_min* in *d*. Assign 100 to the corresponding value(s) in *f* for *d_max* in *d*. In the end, f should have only the following values: 0, 25, 50, 75, and 100.\n",
    "\n",
    "**Note**: you don't have to use Numpy in this question."
   ]
  },
  {
   "cell_type": "code",
   "execution_count": 47,
   "metadata": {},
   "outputs": [],
   "source": [
    "# your code here\n",
    "for i in range(len(d)): #we go through the first value of the shape of array d (2)\n",
    "    for j in range(len(d[i])): #we go through the second value of the shape of array d (3)\n",
    "        for k in range(len(d[i][j])): #we go through the third value of the shape of array d (5)\n",
    "            if d[i][j][k]>d_min and d[i][j][k]<d_mean: #we add the value in f, depend of the conditions:\n",
    "                f[i][j][k]=25\n",
    "            elif d[i][j][k]>d_mean and d[i][j][k]<d_max:\n",
    "                f[i][j][k]=75\n",
    "            elif d[i][j][k]==d_min:\n",
    "                f[i][j][k]=0\n",
    "            elif d[i][j][k]==d_mean:\n",
    "                f[i][j][k]=50\n",
    "            else:\n",
    "                f[i][j][k]=100\n"
   ]
  },
  {
   "cell_type": "markdown",
   "metadata": {},
   "source": [
    "#### 17. Print *d* and *f*. Do you have your expected *f*?\n",
    "For instance, if your *d* is:\n",
    "```python\n",
    "[[[1.85836099, 1.67064465, 1.62576044, 1.40243961, 1.88454931],\n",
    "[1.75354326, 1.69403643, 1.36729252, 1.61415071, 1.12104981],\n",
    "[1.72201435, 1.1862918 , 1.87078449, 1.7726778 , 1.88180042]],\n",
    "[[1.44747908, 1.31673383, 1.02000951, 1.52218947, 1.97066381],\n",
    "[1.79129243, 1.74983003, 1.96028037, 1.85166831, 1.65450881],\n",
    "[1.18068344, 1.9587381 , 1.00656599, 1.93402165, 1.73514584]]]\n",
    "```\n",
    "Your *f* should be:\n",
    "```python\n",
    "[[[ 75.,  75.,  75.,  25.,  75.],\n",
    "[ 75.,  75.,  25.,  25.,  25.],\n",
    "[ 75.,  25.,  75.,  75.,  75.]],\n",
    "[[ 25.,  25.,  25.,  25., 100.],\n",
    "[ 75.,  75.,  75.,  75.,  75.],\n",
    "[ 25.,  75.,   0.,  75.,  75.]]]\n",
    "```"
   ]
  },
  {
   "cell_type": "code",
   "execution_count": 50,
   "metadata": {},
   "outputs": [
    {
     "name": "stdout",
     "output_type": "stream",
     "text": [
      "[[[1.86727796 1.74239057 1.59349874 1.68442072 1.81952371]\n",
      "  [1.71868111 1.24239272 1.45945018 1.0229523  1.49586134]\n",
      "  [1.35789196 1.22389139 1.56503513 1.00395188 1.89453593]]\n",
      "\n",
      " [[1.090906   1.11251085 1.47741232 1.54362031 1.61781174]\n",
      "  [1.5785119  1.13466542 1.80027918 1.13768054 1.89667849]\n",
      "  [1.69055335 1.80879624 1.78610832 1.18966181 1.34933771]]]\n",
      "\n",
      "\n",
      "\n",
      "[[[ 75.  75.  75.  75.  75.]\n",
      "  [ 75.  25.  25.  25.  25.]\n",
      "  [ 25.  25.  75.   0.  75.]]\n",
      "\n",
      " [[ 25.  25.  25.  75.  75.]\n",
      "  [ 75.  25.  75.  25. 100.]\n",
      "  [ 75.  75.  75.  25.  25.]]]\n"
     ]
    }
   ],
   "source": [
    "# your code here\n",
    "print(d)\n",
    "print('\\n\\n')\n",
    "print(f)"
   ]
  },
  {
   "cell_type": "markdown",
   "metadata": {},
   "source": [
    "#### 18. Bonus question: instead of using numbers (i.e. 0, 25, 50, 75, and 100), use string values  (\"A\", \"B\", \"C\", \"D\", and \"E\") to label the array elements. For the example above, the expected result is:\n",
    "\n",
    "```python\n",
    "[[[ 'D',  'D',  'D',  'B',  'D'],\n",
    "[ 'D',  'D',  'B',  'B',  'B'],\n",
    "[ 'D',  'B',  'D',  'D',  'D']],\n",
    "[[ 'B',  'B',  'B',  'B',  'E'],\n",
    "[ 'D',  'D',  'D',  'D',  'D'],\n",
    "[ 'B',  'D',   'A',  'D', 'D']]]\n",
    "```\n",
    "**Note**: you don't have to use Numpy in this question."
   ]
  },
  {
   "cell_type": "code",
   "execution_count": 56,
   "metadata": {},
   "outputs": [
    {
     "name": "stdout",
     "output_type": "stream",
     "text": [
      "[[['D' 'D' 'D' 'D' 'D']\n",
      "  ['D' 'B' 'B' 'B' 'B']\n",
      "  ['B' 'B' 'D' 'A' 'D']]\n",
      "\n",
      " [['B' 'B' 'B' 'D' 'D']\n",
      "  ['D' 'B' 'D' 'B' 'E']\n",
      "  ['D' 'D' 'D' 'B' 'B']]]\n"
     ]
    }
   ],
   "source": [
    "# your code here\n",
    "#we create a new array empty f_bonus of type=string; we put dtype=str\n",
    "f_bonus=np.empty((2,3,5),dtype=str)\n",
    "\n",
    "#we change the for loops with the letters: A,B,C,D,E\n",
    "for i in range(len(d)): #we go through the first value of the shape of array d (2)\n",
    "    for j in range(len(d[i])): #we go through the second value of the shape of array d (3)\n",
    "        for k in range(len(d[i][j])): #we go through the third value of the shape of array d (5)\n",
    "            if d[i][j][k]>d_min and d[i][j][k]<d_mean: #we add the value in f_bonus, depend of the conditions:\n",
    "                f_bonus[i][j][k]='B'\n",
    "            elif d[i][j][k]>d_mean and d[i][j][k]<d_max:\n",
    "                f_bonus[i][j][k]='D'\n",
    "            elif d[i][j][k]==d_min:\n",
    "                f_bonus[i][j][k]='A'\n",
    "            elif d[i][j][k]==d_mean:\n",
    "                f_bonus[i][j][k]='C'\n",
    "            else:\n",
    "                f_bonus[i][j][k]='E'\n",
    "\n",
    "print(f_bonus)"
   ]
  },
  {
   "cell_type": "code",
   "execution_count": null,
   "metadata": {},
   "outputs": [],
   "source": []
  }
 ],
 "metadata": {
  "kernelspec": {
   "display_name": "Python [conda env:IronHack_env]",
   "language": "python",
   "name": "conda-env-IronHack_env-py"
  },
  "language_info": {
   "codemirror_mode": {
    "name": "ipython",
    "version": 3
   },
   "file_extension": ".py",
   "mimetype": "text/x-python",
   "name": "python",
   "nbconvert_exporter": "python",
   "pygments_lexer": "ipython3",
   "version": "3.7.7"
  }
 },
 "nbformat": 4,
 "nbformat_minor": 4
}
